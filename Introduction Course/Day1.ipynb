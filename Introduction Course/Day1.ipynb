{
 "cells": [
  {
   "cell_type": "code",
   "execution_count": 1,
   "metadata": {},
   "outputs": [
    {
     "data": {
      "text/plain": [
       "3.5"
      ]
     },
     "execution_count": 1,
     "metadata": {},
     "output_type": "execute_result"
    }
   ],
   "source": [
    "# stupid example for haha funny % operator \n",
    "tank = 75.5\n",
    "bucket = 8\n",
    "tank % bucket"
   ]
  },
  {
   "cell_type": "code",
   "execution_count": 1,
   "metadata": {},
   "outputs": [],
   "source": [
    "# Make xor :)\n",
    "def xor(first: bool, second: bool) -> bool:\n",
    "  return first != second\n",
    "\n",
    "if __name__ == '__main__':\n",
    "  assert xor(False, False) == False\n",
    "  assert xor(False, True) == True\n",
    "  assert xor(True, False) == True\n",
    "  assert xor(True, True) == False"
   ]
  },
  {
   "cell_type": "code",
   "execution_count": 4,
   "metadata": {},
   "outputs": [
    {
     "ename": "AssertionError",
     "evalue": "",
     "output_type": "error",
     "traceback": [
      "\u001b[1;31m---------------------------------------------------------------------------\u001b[0m",
      "\u001b[1;31mAssertionError\u001b[0m                            Traceback (most recent call last)",
      "Cell \u001b[1;32mIn [4], line 11\u001b[0m\n\u001b[0;32m      9\u001b[0m \u001b[38;5;28;01massert\u001b[39;00m invite(F, F, F) \u001b[38;5;241m==\u001b[39m \u001b[38;5;28;01mFalse\u001b[39;00m\n\u001b[0;32m     10\u001b[0m \u001b[38;5;28;01massert\u001b[39;00m invite(F, F, T) \u001b[38;5;241m==\u001b[39m \u001b[38;5;28;01mFalse\u001b[39;00m\n\u001b[1;32m---> 11\u001b[0m \u001b[38;5;28;01massert\u001b[39;00m invite(F, T, F) \u001b[38;5;241m==\u001b[39m \u001b[38;5;28;01mTrue\u001b[39;00m\n\u001b[0;32m     12\u001b[0m \u001b[38;5;28;01massert\u001b[39;00m invite(F, T, T) \u001b[38;5;241m==\u001b[39m \u001b[38;5;28;01mFalse\u001b[39;00m\n\u001b[0;32m     13\u001b[0m \u001b[38;5;28;01massert\u001b[39;00m invite(T, F, F) \u001b[38;5;241m==\u001b[39m \u001b[38;5;28;01mFalse\u001b[39;00m\n",
      "\u001b[1;31mAssertionError\u001b[0m: "
     ]
    }
   ],
   "source": [
    "# Party invitation\n",
    "\n",
    "def invite(J: bool, P: bool, M: bool) -> True :\n",
    "  return (not(J) or P) and (P is not M) and (J or M) and (J or not(M))\n",
    "\n",
    "if __name__ == '__main__':\n",
    "  F = False\n",
    "  T = True\n",
    "  assert invite(F, F, F) == False\n",
    "  assert invite(F, F, T) == False\n",
    "  assert invite(F, T, F) == False\n",
    "  assert invite(F, T, T) == False\n",
    "  assert invite(T, F, F) == False\n",
    "  assert invite(T, F, T) == False\n",
    "  assert invite(T, T, F) == True\n",
    "  assert invite(T, T, T) == False"
   ]
  },
  {
   "cell_type": "code",
   "execution_count": 15,
   "metadata": {},
   "outputs": [
    {
     "data": {
      "text/plain": [
       "1980.2420000000002"
      ]
     },
     "execution_count": 15,
     "metadata": {},
     "output_type": "execute_result"
    }
   ],
   "source": [
    "# Painter cost\n",
    "def estimate_cost(ceiling_fee, wall_fee, room_width, room_length, room_height, door_count, door_size, window_count, window_size) -> float:\n",
    "  walls = (room_length * room_height * 2) + (room_width* room_height * 2)\n",
    "  ceiling = room_width * room_length\n",
    "  walls -= door_count * door_size + window_count * window_size\n",
    "  return walls * wall_fee + ceiling * ceiling_fee\n",
    "\n",
    "estimate_cost(5.49, 4.99, 10.5, 20, 2.8, 1, 2, 2, 1.5)"
   ]
  }
 ],
 "metadata": {
  "kernelspec": {
   "display_name": "Python 3.9.12 64-bit ('3.9.12')",
   "language": "python",
   "name": "python3"
  },
  "language_info": {
   "codemirror_mode": {
    "name": "ipython",
    "version": 3
   },
   "file_extension": ".py",
   "mimetype": "text/x-python",
   "name": "python",
   "nbconvert_exporter": "python",
   "pygments_lexer": "ipython3",
   "version": "3.9.12"
  },
  "orig_nbformat": 4,
  "vscode": {
   "interpreter": {
    "hash": "ff0b651dbbf63598515707ab55159f6df4eebf2abc342901b8b0394b0e1559c5"
   }
  }
 },
 "nbformat": 4,
 "nbformat_minor": 2
}
