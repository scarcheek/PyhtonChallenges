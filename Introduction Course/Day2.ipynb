{
 "cells": [
  {
   "cell_type": "code",
   "execution_count": 10,
   "metadata": {},
   "outputs": [],
   "source": [
    "# Made this so the source of user input being actually reliable is not \"Trust me bro\" anymore\n",
    "from typing import Literal\n",
    "\n",
    "def intTryParse(value):\n",
    "  \"\"\"A function that takes a value and tries to convert it to an integer. If it can, it returns the integer and True. If it can't, it returns the value and False.\"\"\"\n",
    "  try:\n",
    "      return int(value), True\n",
    "  except ValueError:\n",
    "      return value, False"
   ]
  },
  {
   "cell_type": "code",
   "execution_count": 14,
   "metadata": {},
   "outputs": [
    {
     "data": {
      "text/plain": [
       "4"
      ]
     },
     "execution_count": 14,
     "metadata": {},
     "output_type": "execute_result"
    }
   ],
   "source": [
    "number = input()\n",
    "\n",
    "def sumOfDigits(value):\n",
    "  i = 0\n",
    "  for digit in value:\n",
    "    tpValue = intTryParse(digit)\n",
    "    if tpValue[1]: i += tpValue[0]\n",
    "    else: return -1\n",
    "  return i\n",
    "\n",
    "sumOfDigits(number)"
   ]
  },
  {
   "cell_type": "code",
   "execution_count": 10,
   "metadata": {},
   "outputs": [
    {
     "name": "stdout",
     "output_type": "stream",
     "text": [
      "1\n",
      "2\n",
      "Fizz \n",
      "4\n",
      "Buzz \n",
      "Fizz \n",
      "7\n",
      "8\n",
      "Fizz \n",
      "Buzz \n",
      "11\n",
      "Fizz \n",
      "13\n",
      "14\n",
      "FizzBuzz \n",
      "16\n",
      "17\n",
      "Fizz \n",
      "19\n",
      "Buzz \n",
      "Fizz \n",
      "22\n",
      "23\n",
      "Fizz \n",
      "Buzz \n",
      "26\n",
      "Fizz \n",
      "28\n",
      "29\n",
      "FizzBuzz \n"
     ]
    }
   ],
   "source": [
    "# FizzBuzz game\n",
    "maxGameLength = 30\n",
    "i = 1\n",
    "while i <= maxGameLength: # Alternatively use `for i in range(1, maxGameLength +1)`\n",
    "  # 15 is the smallest common derivative of 3 and 5\n",
    "  if i % 15 == 0: print(\"FizzBuzz \")\n",
    "  elif i % 3 == 0: print(\"Fizz \")\n",
    "  elif i % 5 == 0: print(\"Buzz \")\n",
    "  else: print(i)\n",
    "  i += 1 # Remove this when using a for loop\n",
    "\n"
   ]
  },
  {
   "cell_type": "code",
   "execution_count": 15,
   "metadata": {},
   "outputs": [
    {
     "name": "stdout",
     "output_type": "stream",
     "text": [
      "20\n",
      "10\n",
      "5\n",
      "16\n",
      "8\n",
      "4\n",
      "2\n",
      "1\n"
     ]
    }
   ],
   "source": [
    "# Ulam conjecture / Collatz conjecture\n",
    "number = int(input())\n",
    "print(number)\n",
    "while number > 1:\n",
    "  if(number %2 == 1): number = (number * 3) + 1\n",
    "  else: number //= 2\n",
    "  print(number)"
   ]
  },
  {
   "cell_type": "code",
   "execution_count": 17,
   "metadata": {},
   "outputs": [
    {
     "data": {
      "text/plain": [
       "100"
      ]
     },
     "execution_count": 17,
     "metadata": {},
     "output_type": "execute_result"
    }
   ],
   "source": [
    "def FindMaxNumber(numbers: list[int]) -> int:\n",
    "  \"\"\"Finds the maximum number in a list of numbers.\"\"\"\n",
    "  maxNumber = numbers[0]\n",
    "  for number in numbers[1:]:\n",
    "    if number > maxNumber: maxNumber = number\n",
    "  return maxNumber\n",
    "\n",
    "FindMaxNumber([1, -10, 20, 11, 19, 0, -5, -1000, 100, 7, 1000])"
   ]
  },
  {
   "cell_type": "code",
   "execution_count": 29,
   "metadata": {},
   "outputs": [
    {
     "name": "stdout",
     "output_type": "stream",
     "text": [
      "4 is not a prime number\n"
     ]
    }
   ],
   "source": [
    "def isPrimeNumber(number: int) -> bool:\n",
    "  \"\"\"Checks if the number is divisible by any number between 1 and the number itself. If it is, it returns False. If it isn't, it returns True.\"\"\"\n",
    "  for i in range(2, number):\n",
    "    if number % i == 0: return False\n",
    "  return True\n",
    "\n",
    "number = int(input())\n",
    "if(number <= 1): print('shitty number fake ass')\n",
    "\n",
    "else: \n",
    "  notText = \"\" if isPrimeNumber(number) else \"not \"\n",
    "  print(f'{number} is {notText}a prime number')\n"
   ]
  },
  {
   "cell_type": "code",
   "execution_count": 40,
   "metadata": {},
   "outputs": [
    {
     "data": {
      "image/png": "[encoded data removed]",
      "text/plain": [
       "<Figure size 640x480 with 1 Axes>"
      ]
     },
     "metadata": {},
     "output_type": "display_data"
    }
   ],
   "source": [
    "import matplotlib.pyplot as plt\n",
    "import numpy as np\n",
    "\n",
    "def parabola(x):\n",
    "  return x**2\n",
    "\n",
    "def populateArray(start, end) -> list[int]:\n",
    "  returnArray = []\n",
    "  for i in range(start, end+1):\n",
    "    returnArray.append(i)\n",
    "  return returnArray\n",
    "\n",
    "\n",
    "x = np.array(populateArray(-5,5))\n",
    "\n",
    "# Make default density plot\n",
    "plt.plot(x, parabola(x), 'r')\n",
    "plt.show()"
   ]
  }
 ],
 "metadata": {
  "kernelspec": {
   "display_name": "Python 3.9.12 64-bit ('3.9.12')",
   "language": "python",
   "name": "python3"
  },
  "language_info": {
   "codemirror_mode": {
    "name": "ipython",
    "version": 3
   },
   "file_extension": ".py",
   "mimetype": "text/x-python",
   "name": "python",
   "nbconvert_exporter": "python",
   "pygments_lexer": "ipython3",
   "version": "3.9.12"
  },
  "orig_nbformat": 4,
  "vscode": {
   "interpreter": {
    "hash": "ff0b651dbbf63598515707ab55159f6df4eebf2abc342901b8b0394b0e1559c5"
   }
  }
 },
 "nbformat": 4,
 "nbformat_minor": 2
}
