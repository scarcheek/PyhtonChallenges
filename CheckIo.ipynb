{
 "cells": [
  {
   "cell_type": "code",
   "execution_count": 22,
   "metadata": {},
   "outputs": [
    {
     "name": "stdout",
     "output_type": "stream",
     "text": [
      "Example:\n",
      "lav\n",
      "Coding complete? Click 'Check' to earn cool rewards!\n"
     ]
    }
   ],
   "source": [
    "def backward_string(val: str) -> str:\n",
    "    # your code here\n",
    "    return val[::-1]\n",
    "\n",
    "\n",
    "if __name__ == '__main__':\n",
    "    print(\"Example:\")\n",
    "    print(backward_string('val'))\n",
    "\n",
    "    # These \"asserts\" are used for self-checking and not for an auto-testing\n",
    "    assert backward_string('val') == 'lav'\n",
    "    assert backward_string('') == ''\n",
    "    assert backward_string('ohho') == 'ohho'\n",
    "    assert backward_string('123456789') == '987654321'\n",
    "    print(\"Coding complete? Click 'Check' to earn cool rewards!\")\n"
   ]
  },
  {
   "cell_type": "code",
   "execution_count": 15,
   "metadata": {},
   "outputs": [
    {
     "name": "stderr",
     "output_type": "stream",
     "text": [
      "49.66s - Error inserting pydevd breaks.\n",
      "Traceback (most recent call last):\n",
      "  File \"C:\\Users\\scarc\\AppData\\Local\\Packages\\PythonSoftwareFoundation.Python.3.10_qbz5n2kfra8p0\\LocalCache\\local-packages\\Python310\\site-packages\\debugpy\\_vendored\\pydevd\\_pydevd_frame_eval\\pydevd_modify_bytecode.py\", line 328, in insert_pydevd_breaks\n",
      "    for new_instruction in get_instructions_to_add(\n",
      "  File \"C:\\Users\\scarc\\AppData\\Local\\Packages\\PythonSoftwareFoundation.Python.3.10_qbz5n2kfra8p0\\LocalCache\\local-packages\\Python310\\site-packages\\debugpy\\_vendored\\pydevd\\_pydevd_frame_eval\\pydevd_modify_bytecode.py\", line 102, in get_instructions_to_add\n",
      "    Instr(\"LOAD_CONST\", _pydev_stop_at_break, lineno=stop_at_line - 1),\n",
      "  File \"C:\\Users\\scarc\\AppData\\Local\\Packages\\PythonSoftwareFoundation.Python.3.10_qbz5n2kfra8p0\\LocalCache\\local-packages\\Python310\\site-packages\\debugpy\\_vendored\\pydevd\\_pydevd_frame_eval\\vendored\\bytecode\\instr.py\", line 171, in __init__\n",
      "    self._set(name, arg, lineno)\n",
      "  File \"C:\\Users\\scarc\\AppData\\Local\\Packages\\PythonSoftwareFoundation.Python.3.10_qbz5n2kfra8p0\\LocalCache\\local-packages\\Python310\\site-packages\\debugpy\\_vendored\\pydevd\\_pydevd_frame_eval\\vendored\\bytecode\\instr.py\", line 239, in _set\n",
      "    _check_lineno(lineno)\n",
      "  File \"C:\\Users\\scarc\\AppData\\Local\\Packages\\PythonSoftwareFoundation.Python.3.10_qbz5n2kfra8p0\\LocalCache\\local-packages\\Python310\\site-packages\\debugpy\\_vendored\\pydevd\\_pydevd_frame_eval\\vendored\\bytecode\\instr.py\", line 74, in _check_lineno\n",
      "    raise ValueError(\"invalid lineno\")\n",
      "ValueError: invalid lineno\n"
     ]
    },
    {
     "name": "stdout",
     "output_type": "stream",
     "text": [
      "Example:\n",
      "False\n",
      "False\n",
      "True\n",
      "False\n",
      "False\n",
      "True\n",
      "True\n",
      "Coding complete? Click 'Check' to earn cool rewards!\n"
     ]
    }
   ],
   "source": [
    "def end_zeros(num: int) -> int:\n",
    "    \"\"\"\n",
    "    Try to find out how many zeros a given number has at the end.\n",
    "\n",
    "    Input: A positive Int\n",
    "\n",
    "    Output: An Int.\n",
    "    \"\"\"\n",
    "    # your code here\n",
    "    lastDigit = str(num)[-1]\n",
    "    zero = lastDigit == '0'\n",
    "    index = len(str(num)) - 1\n",
    "    retVal = int(zero)\n",
    "    print(zero and index > 0)\n",
    "    while zero and index > 0:\n",
    "        index -= 1\n",
    "        zero = str(num)[index] == '0'\n",
    "        retVal += int(zero)\n",
    "    return retVal\n",
    "\n",
    "\n",
    "if __name__ == \"__main__\":\n",
    "    print(\"Example:\")\n",
    "    # print(end_zeros(0))\n",
    "\n",
    "    # These \"asserts\" are used for self-checking and not for an auto-testing\n",
    "    assert end_zeros(0) == 1\n",
    "    assert end_zeros(1) == 0\n",
    "    assert end_zeros(10) == 1\n",
    "    assert end_zeros(101) == 0\n",
    "    assert end_zeros(245) == 0\n",
    "    assert end_zeros(100100) == 2\n",
    "    assert end_zeros(1001000) == 3\n",
    "    print(\"Coding complete? Click 'Check' to earn cool rewards!\")\n"
   ]
  },
  {
   "cell_type": "code",
   "execution_count": 22,
   "metadata": {},
   "outputs": [
    {
     "name": "stdout",
     "output_type": "stream",
     "text": [
      "Example:\n",
      "Coding complete? Click 'Check' to earn cool rewards!\n"
     ]
    }
   ],
   "source": [
    "#Since above solution doesnt use any of the advantages of python ima re-do it here\n",
    "def end_zeros(num: int) -> int:\n",
    "    \"\"\"\n",
    "    Try to find out how many zeros a given number has at the end.\n",
    "\n",
    "    Input: A positive Int\n",
    "\n",
    "    Output: An Int.\n",
    "    \"\"\"\n",
    "    # your code here\n",
    "    if(num == 0): return 1\n",
    "    zeros = 0\n",
    "    for x in str(num)[::-1]:\n",
    "        if(x != '0'): \n",
    "            return zeros\n",
    "        zeros += 1\n",
    "    return zeros\n",
    "\n",
    "def end_zeros_with_find(num: int) -> int:\n",
    "    \"\"\"\n",
    "    Alternative Solution utilizing the .find(x) method which returns the index of the first occurence of x\n",
    "\n",
    "    If you reverse the int with str(num)[::-1] (which basically means you count backwards) you get the last occurence, thus solving the problem\n",
    "    \"\"\"\n",
    "    if(num == 0): return 1\n",
    "    for x in str(num)[::-1]:\n",
    "        if(x != '0'): return str(num)[::-1].find(x)\n",
    "    return len(str(num))\n",
    "\n",
    "\n",
    "#This is not necessary at all\n",
    "def test(num: int) -> int:\n",
    "    retVal = end_zeros(num)\n",
    "    assert end_zeros_with_find(num) == retVal\n",
    "    return retVal\n",
    "\n",
    "if __name__ == \"__main__\":\n",
    "    print(\"Example:\")\n",
    "    # print(end_zeros(0))\n",
    "\n",
    "    # These \"asserts\" are used for self-checking and not for an auto-testing\n",
    "    assert test(0) == 1\n",
    "    assert test(1) == 0\n",
    "    assert test(10) == 1\n",
    "    assert test(101) == 0\n",
    "    assert test(245) == 0\n",
    "    assert test(100100) == 2\n",
    "    assert test(1001000) == 3\n",
    "    print(\"Coding complete? Click 'Check' to earn cool rewards!\")\n"
   ]
  }
 ],
 "metadata": {
  "kernelspec": {
   "display_name": "Python 3.10.5 64-bit (windows store)",
   "language": "python",
   "name": "python3"
  },
  "language_info": {
   "codemirror_mode": {
    "name": "ipython",
    "version": 3
   },
   "file_extension": ".py",
   "mimetype": "text/x-python",
   "name": "python",
   "nbconvert_exporter": "python",
   "pygments_lexer": "ipython3",
   "version": "3.10.5"
  },
  "orig_nbformat": 4,
  "vscode": {
   "interpreter": {
    "hash": "7b33e6a7805d15c85a5798032a4a0ad41c83ce1890333178e8edea51e44def34"
   }
  }
 },
 "nbformat": 4,
 "nbformat_minor": 2
}
